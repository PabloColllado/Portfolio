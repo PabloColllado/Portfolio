{
 "cells": [
  {
   "cell_type": "markdown",
   "id": "cf73739e-a1a5-46ef-9342-e2d7fecb81eb",
   "metadata": {},
   "source": [
    "# LISTA DE CONTACTOS"
   ]
  },
  {
   "cell_type": "code",
   "execution_count": 1,
   "id": "baf79c53-66f4-47d8-a35e-c8e5d5bde0be",
   "metadata": {},
   "outputs": [],
   "source": [
    "class Contact:\n",
    "    def __init__(self, nombre, email):\n",
    "        self.nombre = nombre\n",
    "        self.email = email\n",
    "    def __str__(self):\n",
    "        return f\"\"\"\n",
    "        Nombre: {self.nombre}\n",
    "        Email: {self.email}\n",
    "        \"\"\"\n",
    "\n",
    "class ContactList:\n",
    "    def __init__(self):\n",
    "        self.contacts = []\n",
    "    def __str__(self):\n",
    "        return str([str(contact) for contact in self.contacts])\n",
    "    def addContact (self, contact):\n",
    "        self.contacts.append(contact)"
   ]
  },
  {
   "cell_type": "code",
   "execution_count": 2,
   "id": "0e2c2e7c-7f2c-49c3-9585-9d00fc10819f",
   "metadata": {},
   "outputs": [
    {
     "name": "stdout",
     "output_type": "stream",
     "text": [
      "[]\n"
     ]
    }
   ],
   "source": [
    "contactList = ContactList()\n",
    "print(contactList)"
   ]
  },
  {
   "cell_type": "code",
   "execution_count": 3,
   "id": "6142be4e-5c6b-43cb-a422-909361b74513",
   "metadata": {},
   "outputs": [
    {
     "name": "stdout",
     "output_type": "stream",
     "text": [
      "['\\n        Nombre: juan\\n        Email: juan@mail.com\\n        ']\n"
     ]
    }
   ],
   "source": [
    "juan = Contact(\"juan\", \"juan@mail.com\")\n",
    "contactList.addContact(juan)\n",
    "print(contactList)\n"
   ]
  },
  {
   "cell_type": "code",
   "execution_count": 4,
   "id": "1f0e71e0-7eb5-4a31-986d-1e70c8e517e4",
   "metadata": {},
   "outputs": [
    {
     "name": "stdout",
     "output_type": "stream",
     "text": [
      "\n",
      "        Nombre: juan\n",
      "        Email: juan@mail.com\n",
      "        \n"
     ]
    }
   ],
   "source": [
    "print(juan)"
   ]
  },
  {
   "cell_type": "code",
   "execution_count": 5,
   "id": "38bd6dab-4a9a-483b-9a3b-824816d1d8ad",
   "metadata": {},
   "outputs": [],
   "source": [
    "class Favorito(Contact):\n",
    "    def __init__(self, nombre, email, cumple):\n",
    "        super().__init__(nombre, email)\n",
    "        self.cumple = cumple\n",
    "    def __str__(self):\n",
    "        return f\"Nombre = {self.nombre}, Email = {self.email}, Cumple = {self.cumple}\""
   ]
  },
  {
   "cell_type": "code",
   "execution_count": 6,
   "id": "9d43bf1a-6c2a-46ca-9aef-4319ce66241a",
   "metadata": {},
   "outputs": [
    {
     "name": "stdout",
     "output_type": "stream",
     "text": [
      "Nombre = favorito, Email = fav@mail.com, Cumple = 10/01\n"
     ]
    }
   ],
   "source": [
    "fav = Favorito(\"favorito\", \"fav@mail.com\", \"10/01\")\n",
    "print(fav)"
   ]
  },
  {
   "cell_type": "code",
   "execution_count": 7,
   "id": "3a85033c-f634-4578-901a-91490b029c15",
   "metadata": {},
   "outputs": [
    {
     "name": "stdout",
     "output_type": "stream",
     "text": [
      "['\\n        Nombre: juan\\n        Email: juan@mail.com\\n        ', 'Nombre = favorito, Email = fav@mail.com, Cumple = 10/01']\n"
     ]
    }
   ],
   "source": [
    "contactList.addContact(fav)\n",
    "print(contactList)"
   ]
  },
  {
   "cell_type": "markdown",
   "id": "4587d633-318b-4352-bc58-782290b46378",
   "metadata": {},
   "source": [
    "# MATRICES"
   ]
  },
  {
   "cell_type": "code",
   "execution_count": null,
   "id": "b6095607-dd52-42b2-b45e-973b2aea30c2",
   "metadata": {},
   "outputs": [],
   "source": []
  },
  {
   "cell_type": "code",
   "execution_count": null,
   "id": "d90bd29d-4cc7-426f-be61-361d6d1f5257",
   "metadata": {},
   "outputs": [],
   "source": []
  }
 ],
 "metadata": {
  "kernelspec": {
   "display_name": "Python 3 (ipykernel)",
   "language": "python",
   "name": "python3"
  },
  "language_info": {
   "codemirror_mode": {
    "name": "ipython",
    "version": 3
   },
   "file_extension": ".py",
   "mimetype": "text/x-python",
   "name": "python",
   "nbconvert_exporter": "python",
   "pygments_lexer": "ipython3",
   "version": "3.12.7"
  }
 },
 "nbformat": 4,
 "nbformat_minor": 5
}
